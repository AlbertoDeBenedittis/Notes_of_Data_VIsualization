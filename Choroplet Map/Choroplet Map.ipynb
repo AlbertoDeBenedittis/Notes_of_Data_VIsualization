{
 "cells": [
  {
   "cell_type": "markdown",
   "id": "01900f45",
   "metadata": {},
   "source": [
    "# Choroplet map "
   ]
  },
  {
   "cell_type": "markdown",
   "id": "b10ff845",
   "metadata": {},
   "source": [
    "## Plotly Express"
   ]
  },
  {
   "cell_type": "code",
   "execution_count": 1,
   "id": "cff79dbd",
   "metadata": {},
   "outputs": [],
   "source": [
    "import plotly.express as px\n",
    "import requests\n",
    "from urllib.request import urlopen\n",
    "import json\n",
    "import plotly.express as px\n",
    "import pandas as p"
   ]
  },
  {
   "cell_type": "code",
   "execution_count": 2,
   "id": "321786b2",
   "metadata": {},
   "outputs": [],
   "source": [
    "url = 'https://raw.githubusercontent.com/openpolis/geojson-italy/master/geojson/limits_IT_regions.geojson'\n",
    "gdf2 = requests.get(url).json()"
   ]
  },
  {
   "cell_type": "code",
   "execution_count": 3,
   "id": "aa606c5e",
   "metadata": {},
   "outputs": [],
   "source": [
    "ITAd = pd.read_csv('demography.csv')\n",
    "ITAe = pd.read_csv('economy.csv')"
   ]
  },
  {
   "cell_type": "code",
   "execution_count": 4,
   "id": "e0bb696a",
   "metadata": {},
   "outputs": [],
   "source": [
    "ITAd.sort_values(by = 'Region', inplace = True)\n",
    "ITAe.sort_values(by = 'Region', inplace = True)"
   ]
  },
  {
   "cell_type": "code",
   "execution_count": 5,
   "id": "ac659ef1",
   "metadata": {},
   "outputs": [],
   "source": [
    "ita = ITAd"
   ]
  },
  {
   "cell_type": "code",
   "execution_count": 6,
   "id": "488ed7a3",
   "metadata": {},
   "outputs": [],
   "source": [
    "ita['Total GDP (mln€)'] = ITAe['Total GDP (mln€)']\n",
    "ita['Pro-capite GDP (€)'] = ITAe['Pro-capite GDP (€)']\n",
    "ita['Pro-capite GDP (Italy=100)'] = ITAe['Pro-capite GDP (Italy=100)']"
   ]
  },
  {
   "cell_type": "code",
   "execution_count": 7,
   "id": "c0403fc2",
   "metadata": {},
   "outputs": [],
   "source": [
    "gdf2['features'][3]['properties']['reg_name'] = 'Trentino-Alto Adige'"
   ]
  },
  {
   "cell_type": "code",
   "execution_count": 8,
   "id": "1ab40a60",
   "metadata": {},
   "outputs": [
    {
     "ename": "NameError",
     "evalue": "name 'plt' is not defined",
     "output_type": "error",
     "traceback": [
      "\u001b[1;31m---------------------------------------------------------------------------\u001b[0m",
      "\u001b[1;31mNameError\u001b[0m                                 Traceback (most recent call last)",
      "\u001b[1;32m~\\AppData\\Local\\Temp/ipykernel_8476/3388851497.py\u001b[0m in \u001b[0;36m<module>\u001b[1;34m\u001b[0m\n\u001b[1;32m----> 1\u001b[1;33m \u001b[0mfig\u001b[0m\u001b[1;33m,\u001b[0m \u001b[0maxes\u001b[0m \u001b[1;33m=\u001b[0m \u001b[0mplt\u001b[0m\u001b[1;33m.\u001b[0m\u001b[0msubplots\u001b[0m\u001b[1;33m(\u001b[0m\u001b[0mfigsize\u001b[0m\u001b[1;33m=\u001b[0m\u001b[1;33m(\u001b[0m\u001b[1;36m25\u001b[0m\u001b[1;33m,\u001b[0m\u001b[1;36m10\u001b[0m\u001b[1;33m)\u001b[0m\u001b[1;33m,\u001b[0m \u001b[0mncols\u001b[0m\u001b[1;33m=\u001b[0m\u001b[1;36m1\u001b[0m\u001b[1;33m,\u001b[0m\u001b[0mnrows\u001b[0m\u001b[1;33m=\u001b[0m\u001b[1;36m1\u001b[0m\u001b[1;33m)\u001b[0m\u001b[1;33m\u001b[0m\u001b[1;33m\u001b[0m\u001b[0m\n\u001b[0m\u001b[0;32m      2\u001b[0m \u001b[1;33m\u001b[0m\u001b[0m\n\u001b[0;32m      3\u001b[0m fig = px.choropleth_mapbox(ita,                                                                          \n\u001b[0;32m      4\u001b[0m                     \u001b[1;31m#my dtaframe from which to extract data\u001b[0m\u001b[1;33m\u001b[0m\u001b[1;33m\u001b[0m\u001b[1;33m\u001b[0m\u001b[0m\n\u001b[0;32m      5\u001b[0m                     \u001b[0mgeojson\u001b[0m\u001b[1;33m=\u001b[0m \u001b[0mgdf2\u001b[0m\u001b[1;33m,\u001b[0m\u001b[1;33m\u001b[0m\u001b[1;33m\u001b[0m\u001b[0m\n",
      "\u001b[1;31mNameError\u001b[0m: name 'plt' is not defined"
     ]
    }
   ],
   "source": [
    "fig, axes = plt.subplots(figsize=(25,10), ncols=1,nrows=1)\n",
    "\n",
    "fig = px.choropleth_mapbox(ita,                                                                          \n",
    "                    #my dtaframe from which to extract data                      \n",
    "                    geojson= gdf2,                                \n",
    "                    locations='Region',                                                            \n",
    "                    #column of the dataframe with regions names \n",
    "                    featureidkey='properties.reg_name',                                                        \n",
    "                    #featureidkey='properties.NOME_REG', check the field the region name belongs to and type: \n",
    "                    #featureidkey=*field*.*variable name of the region (or province depending on the need)*\n",
    "                    color='Pro-capite GDP (€)',                                                                          \n",
    "                    #column of the dataframe with the variable of interest  \n",
    "                    color_continuous_scale=\"Viridis\",\n",
    "                    range_color=(0.01, 20),                                                               \n",
    "                    #range of the variable of interest (approx.)\n",
    "                    labels= {'Pro-capite GDP (€)':'Pro-capite GDP (€)', 'Pop (ab)':'Pop (ab)' },                                                    #label in legend\n",
    "                    title = 'Pro-capite GDP (€) & Population in Italy',\n",
    "                    hover_data= ['Pro-capite GDP (€)', 'Pop (ab)'],\n",
    "                    center={'lon': 25, 'lat':55},  \n",
    "                    mapbox_style='open-street-map',                                                       \n",
    "                    #set by hand or try googling the coordinate of the country\n",
    "                    zoom = 2\n",
    "                   )\n",
    "\n",
    "fig.update_geos(showcountries=False, showcoastlines=False, showland=False, fitbounds=\"locations\")\n",
    "fig.update_layout(margin={\"r\":0,\"t\":40,\"l\":0,\"b\":0})\n",
    "fig.show()"
   ]
  },
  {
   "cell_type": "code",
   "execution_count": null,
   "id": "aca19d15",
   "metadata": {},
   "outputs": [],
   "source": []
  }
 ],
 "metadata": {
  "kernelspec": {
   "display_name": "Python 3 (ipykernel)",
   "language": "python",
   "name": "python3"
  },
  "language_info": {
   "codemirror_mode": {
    "name": "ipython",
    "version": 3
   },
   "file_extension": ".py",
   "mimetype": "text/x-python",
   "name": "python",
   "nbconvert_exporter": "python",
   "pygments_lexer": "ipython3",
   "version": "3.8.3"
  },
  "toc": {
   "base_numbering": 1,
   "nav_menu": {},
   "number_sections": true,
   "sideBar": true,
   "skip_h1_title": false,
   "title_cell": "Table of Contents",
   "title_sidebar": "Contents",
   "toc_cell": false,
   "toc_position": {},
   "toc_section_display": true,
   "toc_window_display": false
  }
 },
 "nbformat": 4,
 "nbformat_minor": 5
}
