{
 "cells": [
  {
   "cell_type": "markdown",
   "metadata": {},
   "source": [
    "# Exam June 2019"
   ]
  },
  {
   "cell_type": "markdown",
   "metadata": {},
   "source": [
    "__[0-5 points] Describe in detail the elements of visual encoding (marks and annotations), their meaning and their use. Explain and comment the meaning of the visual encoding elements in the following picture__:\n",
    "\n",
    "The chart that we are considering is a boxplot. The boxplot shows multiple statistical measurements. The boxes extend from the lower to the upper quartile values of the data, thus allowing us to visualize the interquartile range. The small square inside each box denotes the median of each box plot and in this specific plot, the median are connected by a black solid line. Remaining on the description of the boxplot we must consider the whiskers. The whiskers extending from the box show the range of the data. It is also an option to show data outliers, in this case, they are represented by small crosses and they are over the whiskers. \n",
    "In this specific plot, we are examining the global mobile phone sales by vendor. Indeed, we see on the x-axis the different vendor brands on the y we see the number of sales (probably in million of units). \n",
    "In addition to the boxplots, we have different color spheres that probably represent the acutal data of the sales of the different vendors in all the quarters from the the first quarrter of 2010 to the fourth quarter of 2013.\n",
    "The vendors are sorted accoridng to the number of sales. Samsung is the one who sells them most units while huawei is the one who sells less. However, it is also interesting to notice the size of the boxes. This is interesting because gives us information regarding the 'variability of the sales'. For example, ZTE, seems to sale always the same amount of phone. This is also suported by the high density of the points representing the sales in the different quarters. \n",
    "\n"
   ]
  },
  {
   "cell_type": "markdown",
   "metadata": {},
   "source": [
    "__Describe similarities and differences between a barplot and a histogram, and find two examples where only one of the two charts is the correct visualization option.__\n",
    "\n",
    "In both the histogram and barplot the bar length encodes the values. Another similarity is that we can plot these two type of charts both horizontal or vertical.\n",
    "\n",
    "However, there are also many differences between these two kind of charts. \n",
    "\n",
    "\n",
    "Indeed, the __bar plot__ or __bar chart__ is used to compare numerical values across categories, and limited to the vertical bar plot it is used sometimes to show single variable over time. Another common mistake is to use bar charts to show central tendencies among groups or categories. In this case a more appropriate choice is the boxplot or the violin plot to show statistical measures or distributions. \n",
    "On the other hand, a __histogram__ visualizes the distribution of a single numerical variable. Each bar represent the frequency for a certain interval. Histograms help to get an estimate of statistical measures. You see where values are concentrated. and you can easily detect outliers. You can either plot a histogram with absolute frequency values or alternatively normalize your histogram. If you want to compare distributions of multiple variables, you can use different colors for the bars."
   ]
  },
  {
   "cell_type": "markdown",
   "metadata": {},
   "source": [
    "__Describe the tSNE algorithm, highlighting its pros and cons; find a case study where tSNE is more appropriate than MDS.__\n",
    "\n",
    "Before introducing the tSNE, it is necessary to expalin the problems connected to high dimensional data. Indeed, we need to reduce because:\n",
    "* many data analysis pipeline cannot be used for high dimensional data;\n",
    "* instability and/or computational issues make them unreliable \n",
    "* need for dimension reduction for example when we want to make image classification. \n",
    "* lastly, it is impossible to visualize data when there are more than 3 dimension. \n",
    "To solve all the above issues have been implemented different algorithms in order to reduce the dimensionality of the data retaining as much information as possible. \n",
    "t-SNE is a method adopted to perform dimensionality reduction. \n",
    "The main basic idea of t-SNE is that _what is reliable in dimensionality reduction are the very small  distances between neighbouring points_. \n",
    "In simple words what t-SNE does is find a way to project data into a low dimensional space so that the clustering in high dimensional space is preserved. \n",
    "So what t-SNE does is measuirng distances between points, the idea is to define properly the distance among the points. The core of t-SNE algorithm is to find the minimum of the _kullback-leiber function_ : $C = KL(P||Q) = \\sum_{i=1}^{n} \\sum_{j=1}^{n} p_{ij} \\log{\\frac{p_{ij}}{q_{ij}}} $\n",
    "\n",
    "The novelty that the t-SNE method brought are the following:\n",
    "* t-SNE uses joint instead of conditional probabilities -> this introduce symmetry -> function optimisation is easier\n",
    "* uses the t-student distribution instead of the gaussian on the low-dimensional space: this alleviates crowding probelm and the optimization problem. The t-student on low dimensional space eliminates the unwanted attractive forces between map points that represent moderately disismilar data points. This is due to the fact that the maps's representation of joint probabilities is (almost) invariant to changes in the scale of the map for map points that are far apart. \n",
    "\n",
    "The critical parameter to set when performing the t-SNE is the _perplexity_, the variance of $\\sigma_{i}$  for the high-dim gaussian of $p_{ij}$. Indeed, no single value of $\\sigma_{i}$ can be optimal for all data points in the data set because of the data is likely to vary. \n",
    "\n",
    "\n",
    "__Multidimensional scaling__ is a family of algorithms visualizing the level of similarity of individual cases of a dataset. As mapping, PCA is a particular case of MDS. \n",
    "In practice, mds finds an embedding of n objects into a r-dimensional euclidean space ${R^n}$ so to preserve as well as possible (a function of) the distances between original objects. \n",
    "MDS can be distinguished in 3 kinds, depending on the objective function: \n",
    "* classical mds- the objective function is called strain and involves directly the original distances between objects\n",
    "* metric mds- the object function is called stress and involves a function of the original distances \n",
    "* non-metric mds- the original distances arre dissimilarities, so the stress function finds a non-parametric monotonic relationship between the dissimilarities in the item-item matrix and the Euclidean distances between items, and defines the location of each item. \n",
    "\n",
    "Considering the PCA as a method belonging to the mds, we can say that t-sne will perform better in cases where we have to perform the dimensionality reduction on the swiss roll data. In this case, PCA is not able to capture small variation in the data. It is only able to detect big changes in the variance. Indeed, in the case of the reduced swiss roll with PCA there may seem to be relations that do not exist. In this case, t-SNE will perform better. \n",
    "\n",
    "Nevertheless, t-SNE is not perfect. Indeed, it is:\n",
    "* hard to interpret in terms of geometry. \n",
    "* choice of hyperparameters is critical \n",
    "* although does a good job in clustering, the size of the cluster and the distance between cluster is not meaningful\n",
    "* slow on large datasets \n",
    "* does not output transformation\n"
   ]
  },
  {
   "cell_type": "markdown",
   "metadata": {},
   "source": [
    "__[0-7 points] Find a data visualization (one or more plots) for the data in http://tiny.cc/ju777y (or a subset of the data); justify your choice and find/comment one or more non-trivial relations among the data visible in the plot(s).__"
   ]
  }
 ],
 "metadata": {
  "kernelspec": {
   "display_name": "Python 3 (ipykernel)",
   "language": "python",
   "name": "python3"
  },
  "language_info": {
   "codemirror_mode": {
    "name": "ipython",
    "version": 3
   },
   "file_extension": ".py",
   "mimetype": "text/x-python",
   "name": "python",
   "nbconvert_exporter": "python",
   "pygments_lexer": "ipython3",
   "version": "3.8.3"
  },
  "toc": {
   "base_numbering": 1,
   "nav_menu": {},
   "number_sections": true,
   "sideBar": true,
   "skip_h1_title": false,
   "title_cell": "Table of Contents",
   "title_sidebar": "Contents",
   "toc_cell": false,
   "toc_position": {},
   "toc_section_display": true,
   "toc_window_display": false
  }
 },
 "nbformat": 4,
 "nbformat_minor": 4
}
